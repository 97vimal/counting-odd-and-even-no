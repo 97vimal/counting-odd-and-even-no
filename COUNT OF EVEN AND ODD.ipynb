{
 "cells": [
  {
   "cell_type": "markdown",
   "id": "4ff3a46e",
   "metadata": {},
   "source": [
    "#         number of even and odd"
   ]
  },
  {
   "cell_type": "code",
   "execution_count": 1,
   "id": "dbd07971",
   "metadata": {},
   "outputs": [
    {
     "name": "stdout",
     "output_type": "stream",
     "text": [
      "Number of even numbers :  4\n",
      "Number of odd numbers :  5\n"
     ]
    }
   ],
   "source": [
    "num = (1,2,3,4,5,6,7,8,9)\n",
    "a1 = 0\n",
    "a2 = 0\n",
    "for i in num:\n",
    "    if(i%2 == 0):\n",
    "        a1 += 1\n",
    "    else:\n",
    "        a2 += 1\n",
    "print('Number of even numbers : ',a1)\n",
    "print('Number of odd numbers : ',a2)"
   ]
  },
  {
   "cell_type": "code",
   "execution_count": null,
   "id": "a8fba3ea",
   "metadata": {},
   "outputs": [],
   "source": []
  },
  {
   "cell_type": "code",
   "execution_count": null,
   "id": "67df45e7",
   "metadata": {},
   "outputs": [],
   "source": []
  },
  {
   "cell_type": "code",
   "execution_count": 2,
   "id": "c99b6e47",
   "metadata": {},
   "outputs": [
    {
     "name": "stdout",
     "output_type": "stream",
     "text": [
      "Number of even numbers :  12\n",
      "Number of odd numbers :  11\n"
     ]
    }
   ],
   "source": [
    "num = (1,2,3,4,5,6,7,8,9,10,11,12,13,14,15,23,34,44,32,12,57,44,99)\n",
    "a1 = 0\n",
    "a2 = 0\n",
    "for i in num:\n",
    "    if(i%2 == 0):\n",
    "        a1 += 1\n",
    "    else:\n",
    "        a2 += 1\n",
    "print('Number of even numbers : ',a1)\n",
    "print('Number of odd numbers : ',a2)"
   ]
  },
  {
   "cell_type": "code",
   "execution_count": null,
   "id": "9be1e1a7",
   "metadata": {},
   "outputs": [],
   "source": []
  }
 ],
 "metadata": {
  "kernelspec": {
   "display_name": "Python 3 (ipykernel)",
   "language": "python",
   "name": "python3"
  },
  "language_info": {
   "codemirror_mode": {
    "name": "ipython",
    "version": 3
   },
   "file_extension": ".py",
   "mimetype": "text/x-python",
   "name": "python",
   "nbconvert_exporter": "python",
   "pygments_lexer": "ipython3",
   "version": "3.9.7"
  }
 },
 "nbformat": 4,
 "nbformat_minor": 5
}
